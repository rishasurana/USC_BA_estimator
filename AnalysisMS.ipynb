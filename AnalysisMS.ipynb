{
 "cells": [
  {
   "attachments": {},
   "cell_type": "markdown",
   "metadata": {},
   "source": [
    "Read in CSV BA file. Read in EXCEL CA file. Create master data frame and save as a CSV file."
   ]
  },
  {
   "cell_type": "code",
   "execution_count": 1,
   "metadata": {},
   "outputs": [],
   "source": [
    "#pip install openpyxl"
   ]
  },
  {
   "cell_type": "code",
   "execution_count": 2,
   "metadata": {},
   "outputs": [],
   "source": [
    "import pandas as pd\n",
    "import numpy as np\n",
    "import os \n",
    "from glob import glob"
   ]
  },
  {
   "cell_type": "code",
   "execution_count": 3,
   "metadata": {},
   "outputs": [
    {
     "data": {
      "text/plain": [
       "(60, 2)"
      ]
     },
     "execution_count": 3,
     "metadata": {},
     "output_type": "execute_result"
    }
   ],
   "source": [
    "path_of_BA_csvs = '/Users/rishasurana/Documents/USC_BA_estimator/BACA/MSBA.csv'\n",
    "files = glob(path_of_BA_csvs)\n",
    "MS_BA_csv = pd.DataFrame()\n",
    "\n",
    "MS_BA_csv = pd.concat([pd.read_csv(file) for file in files ], ignore_index=True)\n",
    "MS_BA_csv.pop(MS_BA_csv.columns[0])\n",
    "MS_BA_csv = MS_BA_csv.to_numpy()\n",
    "MS_BA_csv.shape"
   ]
  },
  {
   "cell_type": "code",
   "execution_count": 4,
   "metadata": {},
   "outputs": [
    {
     "data": {
      "text/plain": [
       "(60, 29)"
      ]
     },
     "execution_count": 4,
     "metadata": {},
     "output_type": "execute_result"
    }
   ],
   "source": [
    "MS_CA_xlsx = pd.read_excel('/Users/rishasurana/Documents/USC_BA_estimator/BACA/MSCA.xlsx')\n",
    "MS_CA_array = np.asanyarray(MS_CA_xlsx)\n",
    "MS_CA_array.shape"
   ]
  },
  {
   "cell_type": "code",
   "execution_count": 5,
   "metadata": {},
   "outputs": [
    {
     "name": "stdout",
     "output_type": "stream",
     "text": [
      "60\n"
     ]
    }
   ],
   "source": [
    "CAList = []\n",
    "for ID, BA in MS_BA_csv:\n",
    "    CA = MS_CA_array[int(ID)-1, 2]\n",
    "    CAList.append(CA)\n",
    "print(len(CAList))"
   ]
  },
  {
   "cell_type": "code",
   "execution_count": 6,
   "metadata": {},
   "outputs": [
    {
     "data": {
      "text/plain": [
       "(60, 3)"
      ]
     },
     "execution_count": 6,
     "metadata": {},
     "output_type": "execute_result"
    }
   ],
   "source": [
    "mainArray = np.column_stack((MS_BA_csv, np.asanyarray(CAList)))\n",
    "mainDF = pd.DataFrame(mainArray)\n",
    "mainDF.columns = ['ID', 'BA', 'CA']\n",
    "mainDF.shape"
   ]
  },
  {
   "cell_type": "code",
   "execution_count": 7,
   "metadata": {},
   "outputs": [
    {
     "data": {
      "text/plain": [
       "(60, 4)"
      ]
     },
     "execution_count": 7,
     "metadata": {},
     "output_type": "execute_result"
    }
   ],
   "source": [
    "diffList = []\n",
    "for ID, BA, CA in mainArray:\n",
    "    diffList.append(BA-CA)\n",
    "\n",
    "mainDF.insert(3, 'DIFF', diffList, False)\n",
    "mainDF.shape"
   ]
  },
  {
   "cell_type": "code",
   "execution_count": 8,
   "metadata": {},
   "outputs": [
    {
     "name": "stdout",
     "output_type": "stream",
     "text": [
      "(32, 4)\n"
     ]
    },
    {
     "data": {
      "text/html": [
       "<div>\n",
       "<style scoped>\n",
       "    .dataframe tbody tr th:only-of-type {\n",
       "        vertical-align: middle;\n",
       "    }\n",
       "\n",
       "    .dataframe tbody tr th {\n",
       "        vertical-align: top;\n",
       "    }\n",
       "\n",
       "    .dataframe thead th {\n",
       "        text-align: right;\n",
       "    }\n",
       "</style>\n",
       "<table border=\"1\" class=\"dataframe\">\n",
       "  <thead>\n",
       "    <tr style=\"text-align: right;\">\n",
       "      <th></th>\n",
       "      <th>ID</th>\n",
       "      <th>BA</th>\n",
       "      <th>CA</th>\n",
       "      <th>DIFF</th>\n",
       "    </tr>\n",
       "  </thead>\n",
       "  <tbody>\n",
       "    <tr>\n",
       "      <th>2</th>\n",
       "      <td>34.0</td>\n",
       "      <td>59.551117</td>\n",
       "      <td>47.0</td>\n",
       "      <td>12.551117</td>\n",
       "    </tr>\n",
       "    <tr>\n",
       "      <th>6</th>\n",
       "      <td>38.0</td>\n",
       "      <td>86.656770</td>\n",
       "      <td>25.0</td>\n",
       "      <td>61.656770</td>\n",
       "    </tr>\n",
       "    <tr>\n",
       "      <th>8</th>\n",
       "      <td>10.0</td>\n",
       "      <td>45.236004</td>\n",
       "      <td>39.0</td>\n",
       "      <td>6.236004</td>\n",
       "    </tr>\n",
       "    <tr>\n",
       "      <th>11</th>\n",
       "      <td>59.0</td>\n",
       "      <td>38.728363</td>\n",
       "      <td>33.0</td>\n",
       "      <td>5.728363</td>\n",
       "    </tr>\n",
       "    <tr>\n",
       "      <th>12</th>\n",
       "      <td>28.0</td>\n",
       "      <td>25.063576</td>\n",
       "      <td>32.0</td>\n",
       "      <td>-6.936424</td>\n",
       "    </tr>\n",
       "    <tr>\n",
       "      <th>13</th>\n",
       "      <td>55.0</td>\n",
       "      <td>36.892574</td>\n",
       "      <td>47.0</td>\n",
       "      <td>-10.107426</td>\n",
       "    </tr>\n",
       "    <tr>\n",
       "      <th>14</th>\n",
       "      <td>36.0</td>\n",
       "      <td>28.812400</td>\n",
       "      <td>47.0</td>\n",
       "      <td>-18.187600</td>\n",
       "    </tr>\n",
       "    <tr>\n",
       "      <th>16</th>\n",
       "      <td>7.0</td>\n",
       "      <td>37.922363</td>\n",
       "      <td>43.0</td>\n",
       "      <td>-5.077637</td>\n",
       "    </tr>\n",
       "    <tr>\n",
       "      <th>18</th>\n",
       "      <td>51.0</td>\n",
       "      <td>36.836900</td>\n",
       "      <td>38.0</td>\n",
       "      <td>-1.163100</td>\n",
       "    </tr>\n",
       "    <tr>\n",
       "      <th>19</th>\n",
       "      <td>32.0</td>\n",
       "      <td>48.031950</td>\n",
       "      <td>32.0</td>\n",
       "      <td>16.031950</td>\n",
       "    </tr>\n",
       "    <tr>\n",
       "      <th>23</th>\n",
       "      <td>1.0</td>\n",
       "      <td>34.781370</td>\n",
       "      <td>56.0</td>\n",
       "      <td>-21.218630</td>\n",
       "    </tr>\n",
       "    <tr>\n",
       "      <th>24</th>\n",
       "      <td>18.0</td>\n",
       "      <td>22.308360</td>\n",
       "      <td>23.0</td>\n",
       "      <td>-0.691640</td>\n",
       "    </tr>\n",
       "    <tr>\n",
       "      <th>25</th>\n",
       "      <td>14.0</td>\n",
       "      <td>37.019024</td>\n",
       "      <td>30.0</td>\n",
       "      <td>7.019024</td>\n",
       "    </tr>\n",
       "    <tr>\n",
       "      <th>29</th>\n",
       "      <td>53.0</td>\n",
       "      <td>43.376030</td>\n",
       "      <td>37.0</td>\n",
       "      <td>6.376030</td>\n",
       "    </tr>\n",
       "    <tr>\n",
       "      <th>32</th>\n",
       "      <td>56.0</td>\n",
       "      <td>32.277200</td>\n",
       "      <td>30.0</td>\n",
       "      <td>2.277200</td>\n",
       "    </tr>\n",
       "    <tr>\n",
       "      <th>33</th>\n",
       "      <td>48.0</td>\n",
       "      <td>41.692375</td>\n",
       "      <td>38.0</td>\n",
       "      <td>3.692375</td>\n",
       "    </tr>\n",
       "    <tr>\n",
       "      <th>34</th>\n",
       "      <td>35.0</td>\n",
       "      <td>42.094517</td>\n",
       "      <td>42.0</td>\n",
       "      <td>0.094517</td>\n",
       "    </tr>\n",
       "    <tr>\n",
       "      <th>35</th>\n",
       "      <td>44.0</td>\n",
       "      <td>31.560484</td>\n",
       "      <td>41.0</td>\n",
       "      <td>-9.439516</td>\n",
       "    </tr>\n",
       "    <tr>\n",
       "      <th>38</th>\n",
       "      <td>8.0</td>\n",
       "      <td>26.579035</td>\n",
       "      <td>32.0</td>\n",
       "      <td>-5.420965</td>\n",
       "    </tr>\n",
       "    <tr>\n",
       "      <th>40</th>\n",
       "      <td>6.0</td>\n",
       "      <td>35.098390</td>\n",
       "      <td>44.0</td>\n",
       "      <td>-8.901610</td>\n",
       "    </tr>\n",
       "    <tr>\n",
       "      <th>42</th>\n",
       "      <td>58.0</td>\n",
       "      <td>45.281390</td>\n",
       "      <td>52.0</td>\n",
       "      <td>-6.718610</td>\n",
       "    </tr>\n",
       "    <tr>\n",
       "      <th>46</th>\n",
       "      <td>54.0</td>\n",
       "      <td>34.574497</td>\n",
       "      <td>54.0</td>\n",
       "      <td>-19.425503</td>\n",
       "    </tr>\n",
       "    <tr>\n",
       "      <th>47</th>\n",
       "      <td>29.0</td>\n",
       "      <td>48.095560</td>\n",
       "      <td>41.0</td>\n",
       "      <td>7.095560</td>\n",
       "    </tr>\n",
       "    <tr>\n",
       "      <th>48</th>\n",
       "      <td>2.0</td>\n",
       "      <td>58.755210</td>\n",
       "      <td>29.0</td>\n",
       "      <td>29.755210</td>\n",
       "    </tr>\n",
       "    <tr>\n",
       "      <th>49</th>\n",
       "      <td>33.0</td>\n",
       "      <td>28.868998</td>\n",
       "      <td>40.0</td>\n",
       "      <td>-11.131002</td>\n",
       "    </tr>\n",
       "    <tr>\n",
       "      <th>51</th>\n",
       "      <td>21.0</td>\n",
       "      <td>30.633380</td>\n",
       "      <td>38.0</td>\n",
       "      <td>-7.366620</td>\n",
       "    </tr>\n",
       "    <tr>\n",
       "      <th>52</th>\n",
       "      <td>42.0</td>\n",
       "      <td>38.284800</td>\n",
       "      <td>43.0</td>\n",
       "      <td>-4.715200</td>\n",
       "    </tr>\n",
       "    <tr>\n",
       "      <th>55</th>\n",
       "      <td>23.0</td>\n",
       "      <td>27.934475</td>\n",
       "      <td>45.0</td>\n",
       "      <td>-17.065525</td>\n",
       "    </tr>\n",
       "    <tr>\n",
       "      <th>56</th>\n",
       "      <td>52.0</td>\n",
       "      <td>22.970362</td>\n",
       "      <td>37.0</td>\n",
       "      <td>-14.029638</td>\n",
       "    </tr>\n",
       "    <tr>\n",
       "      <th>57</th>\n",
       "      <td>31.0</td>\n",
       "      <td>56.322310</td>\n",
       "      <td>52.0</td>\n",
       "      <td>4.322310</td>\n",
       "    </tr>\n",
       "    <tr>\n",
       "      <th>58</th>\n",
       "      <td>19.0</td>\n",
       "      <td>49.731274</td>\n",
       "      <td>42.0</td>\n",
       "      <td>7.731274</td>\n",
       "    </tr>\n",
       "    <tr>\n",
       "      <th>59</th>\n",
       "      <td>15.0</td>\n",
       "      <td>52.524815</td>\n",
       "      <td>24.0</td>\n",
       "      <td>28.524815</td>\n",
       "    </tr>\n",
       "  </tbody>\n",
       "</table>\n",
       "</div>"
      ],
      "text/plain": [
       "      ID         BA    CA       DIFF\n",
       "2   34.0  59.551117  47.0  12.551117\n",
       "6   38.0  86.656770  25.0  61.656770\n",
       "8   10.0  45.236004  39.0   6.236004\n",
       "11  59.0  38.728363  33.0   5.728363\n",
       "12  28.0  25.063576  32.0  -6.936424\n",
       "13  55.0  36.892574  47.0 -10.107426\n",
       "14  36.0  28.812400  47.0 -18.187600\n",
       "16   7.0  37.922363  43.0  -5.077637\n",
       "18  51.0  36.836900  38.0  -1.163100\n",
       "19  32.0  48.031950  32.0  16.031950\n",
       "23   1.0  34.781370  56.0 -21.218630\n",
       "24  18.0  22.308360  23.0  -0.691640\n",
       "25  14.0  37.019024  30.0   7.019024\n",
       "29  53.0  43.376030  37.0   6.376030\n",
       "32  56.0  32.277200  30.0   2.277200\n",
       "33  48.0  41.692375  38.0   3.692375\n",
       "34  35.0  42.094517  42.0   0.094517\n",
       "35  44.0  31.560484  41.0  -9.439516\n",
       "38   8.0  26.579035  32.0  -5.420965\n",
       "40   6.0  35.098390  44.0  -8.901610\n",
       "42  58.0  45.281390  52.0  -6.718610\n",
       "46  54.0  34.574497  54.0 -19.425503\n",
       "47  29.0  48.095560  41.0   7.095560\n",
       "48   2.0  58.755210  29.0  29.755210\n",
       "49  33.0  28.868998  40.0 -11.131002\n",
       "51  21.0  30.633380  38.0  -7.366620\n",
       "52  42.0  38.284800  43.0  -4.715200\n",
       "55  23.0  27.934475  45.0 -17.065525\n",
       "56  52.0  22.970362  37.0 -14.029638\n",
       "57  31.0  56.322310  52.0   4.322310\n",
       "58  19.0  49.731274  42.0   7.731274\n",
       "59  15.0  52.524815  24.0  28.524815"
      ]
     },
     "execution_count": 8,
     "metadata": {},
     "output_type": "execute_result"
    }
   ],
   "source": [
    "selectDF = mainDF\n",
    "selectDF = selectDF[selectDF.CA >= 21.000000] #removed 16 subjects\n",
    "selectDF = selectDF[selectDF.BA != 22.000000] #removed 16 subjects\n",
    "print(selectDF.shape)\n",
    "selectDF # removed 28 subjects"
   ]
  },
  {
   "cell_type": "code",
   "execution_count": 9,
   "metadata": {},
   "outputs": [],
   "source": [
    "selectDF.to_csv('tableMS.csv')"
   ]
  }
 ],
 "metadata": {
  "kernelspec": {
   "display_name": "Python 3",
   "language": "python",
   "name": "python3"
  },
  "language_info": {
   "codemirror_mode": {
    "name": "ipython",
    "version": 3
   },
   "file_extension": ".py",
   "mimetype": "text/x-python",
   "name": "python",
   "nbconvert_exporter": "python",
   "pygments_lexer": "ipython3",
   "version": "3.9.1"
  },
  "orig_nbformat": 4
 },
 "nbformat": 4,
 "nbformat_minor": 2
}
